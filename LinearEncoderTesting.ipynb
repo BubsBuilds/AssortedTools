{
 "cells": [
  {
   "cell_type": "code",
   "execution_count": null,
   "id": "initial_id",
   "metadata": {
    "collapsed": true
   },
   "outputs": [],
   "source": [
    ""
   ]
  },
  {
   "metadata": {},
   "cell_type": "markdown",
   "source": "This notebook is intended for both preliminary design analysis and simulation as well as for data analysis after completion of testing.\n",
   "id": "9ac536ef1594f12a"
  },
  {
   "metadata": {},
   "cell_type": "markdown",
   "source": [
    "The below cell sets up the design parameters for V1 of the test setup.\n",
    "\n",
    "For this design, the read head will use 3, LTH### optos at a 10.16mm center-to-center spacing (4 holes of separation on standard perfboard). Rise and fall times are based on \n",
    "\n",
    "The encoder has cutouts with a nominal width of 2mm on a 4mm center-to-center spacing\n",
    "\n",
    "\n",
    "\n"
   ],
   "id": "22bfe503c5b52856"
  },
  {
   "metadata": {
    "ExecuteTime": {
     "end_time": "2024-09-06T06:45:29.317457Z",
     "start_time": "2024-09-06T06:45:29.314043Z"
    }
   },
   "cell_type": "code",
   "source": [
    "\n",
    "d_opto = 7.62 #center-to-center spacing from opto 1 to opto 2\n",
    "N_opto = 3 #total number of optos in read head\n",
    "\n",
    "Ncuts = 135 #number of cutouts in encoder\n",
    "Wnom = 1.00 #nominal width of cutouts\n",
    "Snom = 2.00 #nominal center-to-center spacing between cutouts\n",
    "\n",
    "t_rise = 0.000015 #rise time in seconds\n",
    "t_fall = 0.000020 #fall time in seconds\n",
    "\n",
    "# Populate dict of each edge location on scale\n",
    "i = 0\n",
    "c_loc = 0\n",
    "edge_locs = {}\n",
    "while i <= Ncuts:\n",
    "    if i % 2:\n",
    "        edge_type = 1\n",
    "        edge_locs[i] = [edge_type, (i*Wnom)]\n",
    "    else:\n",
    "        edge_type = -1\n",
    "        edge_locs[i] = [edge_type, (i*Wnom)]\n",
    "    i += 1\n",
    "\n"
   ],
   "id": "9ba55a30d520dc96",
   "outputs": [],
   "execution_count": 56
  },
  {
   "metadata": {
    "ExecuteTime": {
     "end_time": "2024-09-06T06:45:30.334103Z",
     "start_time": "2024-09-06T06:45:30.331519Z"
    }
   },
   "cell_type": "code",
   "source": "print(edge_locs)",
   "id": "8efbfc4c6b417bf9",
   "outputs": [
    {
     "name": "stdout",
     "output_type": "stream",
     "text": [
      "{0: [-1, 0.0], 1: [1, 1.0], 2: [-1, 2.0], 3: [1, 3.0], 4: [-1, 4.0], 5: [1, 5.0], 6: [-1, 6.0], 7: [1, 7.0], 8: [-1, 8.0], 9: [1, 9.0], 10: [-1, 10.0], 11: [1, 11.0], 12: [-1, 12.0], 13: [1, 13.0], 14: [-1, 14.0], 15: [1, 15.0], 16: [-1, 16.0], 17: [1, 17.0], 18: [-1, 18.0], 19: [1, 19.0], 20: [-1, 20.0], 21: [1, 21.0], 22: [-1, 22.0], 23: [1, 23.0], 24: [-1, 24.0], 25: [1, 25.0], 26: [-1, 26.0], 27: [1, 27.0], 28: [-1, 28.0], 29: [1, 29.0], 30: [-1, 30.0], 31: [1, 31.0], 32: [-1, 32.0], 33: [1, 33.0], 34: [-1, 34.0], 35: [1, 35.0], 36: [-1, 36.0], 37: [1, 37.0], 38: [-1, 38.0], 39: [1, 39.0], 40: [-1, 40.0], 41: [1, 41.0], 42: [-1, 42.0], 43: [1, 43.0], 44: [-1, 44.0], 45: [1, 45.0], 46: [-1, 46.0], 47: [1, 47.0], 48: [-1, 48.0], 49: [1, 49.0], 50: [-1, 50.0], 51: [1, 51.0], 52: [-1, 52.0], 53: [1, 53.0], 54: [-1, 54.0], 55: [1, 55.0], 56: [-1, 56.0], 57: [1, 57.0], 58: [-1, 58.0], 59: [1, 59.0], 60: [-1, 60.0], 61: [1, 61.0], 62: [-1, 62.0], 63: [1, 63.0], 64: [-1, 64.0], 65: [1, 65.0], 66: [-1, 66.0], 67: [1, 67.0], 68: [-1, 68.0], 69: [1, 69.0], 70: [-1, 70.0], 71: [1, 71.0], 72: [-1, 72.0], 73: [1, 73.0], 74: [-1, 74.0], 75: [1, 75.0], 76: [-1, 76.0], 77: [1, 77.0], 78: [-1, 78.0], 79: [1, 79.0], 80: [-1, 80.0], 81: [1, 81.0], 82: [-1, 82.0], 83: [1, 83.0], 84: [-1, 84.0], 85: [1, 85.0], 86: [-1, 86.0], 87: [1, 87.0], 88: [-1, 88.0], 89: [1, 89.0], 90: [-1, 90.0], 91: [1, 91.0], 92: [-1, 92.0], 93: [1, 93.0], 94: [-1, 94.0], 95: [1, 95.0], 96: [-1, 96.0], 97: [1, 97.0], 98: [-1, 98.0], 99: [1, 99.0], 100: [-1, 100.0], 101: [1, 101.0], 102: [-1, 102.0], 103: [1, 103.0], 104: [-1, 104.0], 105: [1, 105.0], 106: [-1, 106.0], 107: [1, 107.0], 108: [-1, 108.0], 109: [1, 109.0], 110: [-1, 110.0], 111: [1, 111.0], 112: [-1, 112.0], 113: [1, 113.0], 114: [-1, 114.0], 115: [1, 115.0], 116: [-1, 116.0], 117: [1, 117.0], 118: [-1, 118.0], 119: [1, 119.0], 120: [-1, 120.0], 121: [1, 121.0], 122: [-1, 122.0], 123: [1, 123.0], 124: [-1, 124.0], 125: [1, 125.0], 126: [-1, 126.0], 127: [1, 127.0], 128: [-1, 128.0], 129: [1, 129.0], 130: [-1, 130.0], 131: [1, 131.0], 132: [-1, 132.0], 133: [1, 133.0], 134: [-1, 134.0], 135: [1, 135.0]}\n"
     ]
    }
   ],
   "execution_count": 57
  },
  {
   "metadata": {
    "ExecuteTime": {
     "end_time": "2024-09-06T06:45:33.364412Z",
     "start_time": "2024-09-06T06:45:32.468006Z"
    }
   },
   "cell_type": "code",
   "source": [
    "import numpy as np\n",
    "x_locs = np.linspace(0, 100, 100000)\n",
    "dat = {}\n",
    "state_s1 = 0\n",
    "state_s2 = 0\n",
    "state_s3 = 0\n",
    "vals_s1 = []\n",
    "vals_s2 = []\n",
    "vals_s3 = []\n",
    "hits = []\n",
    "for loc in x_locs:\n",
    "    s1 = float(loc)\n",
    "    s2 = s1 + d_opto\n",
    "    s3 = s1 + (2 * d_opto)\n",
    "    if [-1, s1] in edge_locs.values():\n",
    "        state_s1 = 0\n",
    "        hits.append(s1)\n",
    "    if [1, s1] in edge_locs.values():\n",
    "        state_s1 = 1\n",
    "        hits.append(s1)\n",
    "    if [-1, s2] in edge_locs.values():\n",
    "        state_s2 = 0\n",
    "        hits.append(s2)\n",
    "    if [1, s2] in edge_locs.values():\n",
    "        state_s2 = 1\n",
    "        hits.append(s2)\n",
    "    if [-1, s3] in edge_locs.values():\n",
    "        state_s3 = 0\n",
    "        hits.append(s3)\n",
    "    if [1, s3] in edge_locs.values():\n",
    "        state_s3 = 1\n",
    "        hits.append(s3)\n",
    "    vals_s1.append(state_s1)\n",
    "    vals_s2.append(state_s2)\n",
    "    vals_s3.append(state_s3)"
   ],
   "id": "41efe9995d5f684a",
   "outputs": [],
   "execution_count": 58
  },
  {
   "metadata": {
    "ExecuteTime": {
     "end_time": "2024-09-06T06:45:33.949638Z",
     "start_time": "2024-09-06T06:45:33.893213Z"
    }
   },
   "cell_type": "code",
   "source": [
    "from matplotlib import pyplot as plt\n",
    "plt.plot(x_locs, vals_s2)"
   ],
   "id": "4d74cb9d74a0d2a0",
   "outputs": [
    {
     "data": {
      "text/plain": [
       "[<matplotlib.lines.Line2D at 0x116887e30>]"
      ]
     },
     "execution_count": 59,
     "metadata": {},
     "output_type": "execute_result"
    },
    {
     "data": {
      "text/plain": [
       "<Figure size 640x480 with 1 Axes>"
      ],
      "image/png": "[encoded data removed]"
     },
     "metadata": {},
     "output_type": "display_data"
    }
   ],
   "execution_count": 59
  },
  {
   "metadata": {
    "ExecuteTime": {
     "end_time": "2024-09-06T06:45:35.163835Z",
     "start_time": "2024-09-06T06:45:35.160798Z"
    }
   },
   "cell_type": "code",
   "source": "print(hits)",
   "id": "2f62ed268abad6f3",
   "outputs": [
    {
     "name": "stdout",
     "output_type": "stream",
     "text": [
      "[0.0, 100.0]\n"
     ]
    }
   ],
   "execution_count": 60
  },
  {
   "metadata": {},
   "cell_type": "code",
   "outputs": [],
   "execution_count": null,
   "source": "",
   "id": "64d951da1ebf3efc"
  }
 ],
 "metadata": {
  "kernelspec": {
   "display_name": "Python 3",
   "language": "python",
   "name": "python3"
  },
  "language_info": {
   "codemirror_mode": {
    "name": "ipython",
    "version": 2
   },
   "file_extension": ".py",
   "mimetype": "text/x-python",
   "name": "python",
   "nbconvert_exporter": "python",
   "pygments_lexer": "ipython2",
   "version": "2.7.6"
  }
 },
 "nbformat": 4,
 "nbformat_minor": 5
}
