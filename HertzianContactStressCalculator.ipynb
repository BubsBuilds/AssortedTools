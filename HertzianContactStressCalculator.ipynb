{
 "cells": [
  {
   "cell_type": "code",
   "execution_count": 10,
   "id": "initial_id",
   "metadata": {
    "collapsed": true,
    "ExecuteTime": {
     "end_time": "2024-05-09T20:31:37.122311300Z",
     "start_time": "2024-05-09T20:31:37.119305800Z"
    }
   },
   "outputs": [],
   "source": [
    "'''\n",
    "Input parameters\n",
    "'''\n",
    "\n",
    "geom_type = 'sphere'\n",
    "\n",
    "# Contact 1 Definition\n",
    "#Material definition for Contact 1\n",
    "material_1 = '17-4-H900'\n",
    "source_1 = 'https://www.matweb.com/search/DataSheet.aspx?MatGUID=4ebae048691442f5ad942503bbc64254' # source reference for material properties\n",
    "E_1 = 197 # elastic modulus of material 1, in GPa\n",
    "yield_1 = 1170 #yield strength of material 1, in MPa\n",
    "cte_1 = 11 # cte for material 1, in ppm/degC\n",
    "nu_1 = 0.272 #posson ratio for material 1\n",
    "\n",
    "# Geometry definition for Contact 1\n",
    "R_1 = 2.5 # radius of contact 1 in mm\n",
    "\n",
    "# Contact 2 Definition\n",
    "#Material definition for Contact 2\n",
    "material_2 = '17-4-H900'\n",
    "source_2 = 'https://www.matweb.com/search/DataSheet.aspx?MatGUID=4ebae048691442f5ad942503bbc64254' # source reference for material properties\n",
    "E_2 = 197 # elastic modulus of material 1, in GPa\n",
    "yield_2 = 1170 #yield strength of material 1, in MPa\n",
    "cte_2 = 11 # cte for material 1, in ppm/degC\n",
    "nu_2 = 0.272 #posson ratio for material 1\n",
    "\n",
    "# Geometry definition for Contact 2\n",
    "R_2 = 100000000 # radius of contact 2 in mm\n",
    "\n",
    "\n",
    "# Load definition\n",
    "Fn = 10 # Applied normal force, in Newtons"
   ]
  },
  {
   "cell_type": "code",
   "outputs": [
    {
     "name": "stdout",
     "output_type": "stream",
     "text": [
      "Effective radius: 2.5 mm\n",
      "Effective modulus: 106.4 GPa\n"
     ]
    }
   ],
   "source": [
    "''' Calculate effective radius and effective modulus'''\n",
    "R_eff = (1 / ((1/R_1)+(1/R_2)) )\n",
    "\n",
    "E_eff = (1 / (((1-nu_1**2)/E_1) + ((1-nu_1**2)/E_2)))\n",
    "\n",
    "print(f'Effective radius: {round(R_eff, 3)} mm')\n",
    "print(f'Effective modulus: {round(E_eff, 1)} GPa')\n",
    "R_eff = R_eff / 1000 # convert radius to meters for next calcs\n",
    "E_eff = E_eff * 1000000000"
   ],
   "metadata": {
    "collapsed": false,
    "ExecuteTime": {
     "end_time": "2024-05-09T20:36:51.575438600Z",
     "start_time": "2024-05-09T20:36:51.569941Z"
    }
   },
   "id": "d9a0688df9087c32",
   "execution_count": 19
  },
  {
   "cell_type": "code",
   "outputs": [
    {
     "name": "stdout",
     "output_type": "stream",
     "text": [
      "Max Stress: 1518.748 MPa\n",
      "Contact Radius: 0.04898 mm\n",
      "Displacement: 0.96 um\n"
     ]
    }
   ],
   "source": [
    "''' Calculate stresses and deflections'''\n",
    "import math\n",
    "\n",
    "if geom_type == 'sphere':\n",
    "    p0 = ( (6 * Fn * E_eff**2) / ( (math.pi**3)*R_eff**2) )**(1/3)\n",
    "    aR = ( (2 * Fn * R_eff) / (4 * E_eff) )**(1/3)\n",
    "    delta = aR**2 / R_eff\n",
    "    \n",
    "\n",
    "print(f'Max Stress: {round(p0/1000000, 3)} MPa')\n",
    "print(f'Contact Radius: {round(aR * 1000, 5)} mm')\n",
    "print(f'Displacement: {round(delta * 1000000, 2)} um')"
   ],
   "metadata": {
    "collapsed": false,
    "ExecuteTime": {
     "end_time": "2024-05-09T20:40:11.279839300Z",
     "start_time": "2024-05-09T20:40:11.277835600Z"
    }
   },
   "id": "d0950bf19a7b3407",
   "execution_count": 23
  },
  {
   "cell_type": "code",
   "outputs": [
    {
     "name": "stdout",
     "output_type": "stream",
     "text": [
      "15.187479525818027\n"
     ]
    }
   ],
   "source": [
    "print(p0)"
   ],
   "metadata": {
    "collapsed": false,
    "ExecuteTime": {
     "end_time": "2024-05-09T20:32:42.723012900Z",
     "start_time": "2024-05-09T20:32:42.719196300Z"
    }
   },
   "id": "c86ed98d6465049e",
   "execution_count": 15
  },
  {
   "cell_type": "code",
   "outputs": [],
   "source": [],
   "metadata": {
    "collapsed": false
   },
   "id": "3566f3de2536d02a"
  }
 ],
 "metadata": {
  "kernelspec": {
   "display_name": "Python 3",
   "language": "python",
   "name": "python3"
  },
  "language_info": {
   "codemirror_mode": {
    "name": "ipython",
    "version": 2
   },
   "file_extension": ".py",
   "mimetype": "text/x-python",
   "name": "python",
   "nbconvert_exporter": "python",
   "pygments_lexer": "ipython2",
   "version": "2.7.6"
  }
 },
 "nbformat": 4,
 "nbformat_minor": 5
}
